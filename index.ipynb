{
 "cells": [
  {
   "cell_type": "markdown",
   "metadata": {},
   "source": [
    "# Risk Assessment for Aircraft Purchase"
   ]
  },
  {
   "cell_type": "markdown",
   "metadata": {},
   "source": [
    "## Introduction"
   ]
  },
  {
   "cell_type": "markdown",
   "metadata": {},
   "source": [
    "As our company explores new opportunities in the aviation industry, it’s crucial to understand the risks associated with different aircraft. This project will use data science techniques to analyze factors like accident history, maintenance costs, and operational efficiency to provide clear, actionable insights and identify the safest options for the company to start this new business endeavor."
   ]
  },
  {
   "cell_type": "markdown",
   "metadata": {},
   "source": [
    "## Objectives"
   ]
  },
  {
   "cell_type": "markdown",
   "metadata": {},
   "source": [
    "The tasks that will be undertaken are:\n",
    "- Importing the relevant libraries\n",
    "- Opening and inspecting the contents of `Aviation data CSV` using pandas dataframes\n",
    "- Data Cleaning / Identifying and handling missing values\n",
    "- Data visualization using the `matplotlib` library\n",
    "- Providing insights and recommendations"
   ]
  },
  {
   "cell_type": "markdown",
   "metadata": {},
   "source": [
    "### Data Understanding\n",
    "In this project, we'll work with data from the [National Transportation Safety Board](https://www.kaggle.com/datasets/khsamaha/aviation-accident-database-synopses) that includes aviation accident data from 1962 to 2023 about civil aviation accidents"
   ]
  },
  {
   "cell_type": "markdown",
   "metadata": {},
   "source": [
    "### Business Understanding\n",
    "The questions that are going to be answered for this project are:\n",
    "1. How do different phases of flight impact the risk levels of aircraft?\n",
    "2. Over the last few decades, how safe is an airplane?\n",
    "3. Which airplanes have the highest and lowest accident rates?\n",
    "4. What is the correlation between the Number of Engines and Injury count?\n",
    "5. Which aircraft Model has the highest accident count?\n",
    "6. During which weather conditions did most accidents occur?"
   ]
  },
  {
   "cell_type": "markdown",
   "metadata": {},
   "source": [
    "### Requirements\n",
    "#### 1. Load the data with pandas\n",
    "Create a dataframe `df` and that represent the `AviationData CSV` file. Use pandas methods to inspect the shape and other attributes of the dataframe.\n",
    "#### 2. Data Preparation\n",
    "This step involves checking for columns that contain missing values and selecting the relevant methods to handle the missing\n",
    "data and ensure that the dataset is ready to be used for analysis\n",
    "#### 3. Answer the business questions"
   ]
  },
  {
   "cell_type": "markdown",
   "metadata": {},
   "source": [
    "## 1. Load the Data with Pandas\n",
    "\n",
    "In the cell below, we:\n",
    "\n",
    "* Import and alias `pandas` as `pd`\n",
    "* Import and alias `numpy` as `np`\n",
    "* Import and alias `seaborn` as `sns`\n",
    "* Import and alias `matplotlib.pyplot` as `plt`\n",
    "* Set Matplotlib visualizations to display inline in the notebook"
   ]
  },
  {
   "cell_type": "code",
   "execution_count": 1,
   "metadata": {},
   "outputs": [],
   "source": [
    "import pandas as pd\n",
    "import numpy as np\n",
    "import seaborn as sns\n",
    "import matplotlib.pyplot as plt\n",
    "\n",
    "%matplotlib inline"
   ]
  },
  {
   "cell_type": "markdown",
   "metadata": {},
   "source": [
    "### Read the Aviation accident data\n",
    "In the cell below, load `AviationData.csv` as `df` and look at the first few samples in the dataset to get a feeling of how the data looks like:"
   ]
  },
  {
   "cell_type": "code",
   "execution_count": 2,
   "metadata": {},
   "outputs": [
    {
     "name": "stderr",
     "output_type": "stream",
     "text": [
      "C:\\Users\\Ago\\anaconda3\\envs\\learn-env\\lib\\site-packages\\IPython\\core\\interactiveshell.py:3145: DtypeWarning: Columns (6,7,28) have mixed types.Specify dtype option on import or set low_memory=False.\n",
      "  has_raised = await self.run_ast_nodes(code_ast.body, cell_name,\n"
     ]
    },
    {
     "data": {
      "text/html": [
       "<div>\n",
       "<style scoped>\n",
       "    .dataframe tbody tr th:only-of-type {\n",
       "        vertical-align: middle;\n",
       "    }\n",
       "\n",
       "    .dataframe tbody tr th {\n",
       "        vertical-align: top;\n",
       "    }\n",
       "\n",
       "    .dataframe thead th {\n",
       "        text-align: right;\n",
       "    }\n",
       "</style>\n",
       "<table border=\"1\" class=\"dataframe\">\n",
       "  <thead>\n",
       "    <tr style=\"text-align: right;\">\n",
       "      <th></th>\n",
       "      <th>0</th>\n",
       "      <th>1</th>\n",
       "      <th>2</th>\n",
       "      <th>3</th>\n",
       "      <th>4</th>\n",
       "      <th>5</th>\n",
       "      <th>6</th>\n",
       "    </tr>\n",
       "  </thead>\n",
       "  <tbody>\n",
       "    <tr>\n",
       "      <th>Event.Id</th>\n",
       "      <td>20001218X45444</td>\n",
       "      <td>20001218X45447</td>\n",
       "      <td>20061025X01555</td>\n",
       "      <td>20001218X45448</td>\n",
       "      <td>20041105X01764</td>\n",
       "      <td>20170710X52551</td>\n",
       "      <td>20001218X45446</td>\n",
       "    </tr>\n",
       "    <tr>\n",
       "      <th>Investigation.Type</th>\n",
       "      <td>Accident</td>\n",
       "      <td>Accident</td>\n",
       "      <td>Accident</td>\n",
       "      <td>Accident</td>\n",
       "      <td>Accident</td>\n",
       "      <td>Accident</td>\n",
       "      <td>Accident</td>\n",
       "    </tr>\n",
       "    <tr>\n",
       "      <th>Accident.Number</th>\n",
       "      <td>SEA87LA080</td>\n",
       "      <td>LAX94LA336</td>\n",
       "      <td>NYC07LA005</td>\n",
       "      <td>LAX96LA321</td>\n",
       "      <td>CHI79FA064</td>\n",
       "      <td>NYC79AA106</td>\n",
       "      <td>CHI81LA106</td>\n",
       "    </tr>\n",
       "    <tr>\n",
       "      <th>Event.Date</th>\n",
       "      <td>1948-10-24</td>\n",
       "      <td>1962-07-19</td>\n",
       "      <td>1974-08-30</td>\n",
       "      <td>1977-06-19</td>\n",
       "      <td>1979-08-02</td>\n",
       "      <td>1979-09-17</td>\n",
       "      <td>1981-08-01</td>\n",
       "    </tr>\n",
       "    <tr>\n",
       "      <th>Location</th>\n",
       "      <td>MOOSE CREEK, ID</td>\n",
       "      <td>BRIDGEPORT, CA</td>\n",
       "      <td>Saltville, VA</td>\n",
       "      <td>EUREKA, CA</td>\n",
       "      <td>Canton, OH</td>\n",
       "      <td>BOSTON, MA</td>\n",
       "      <td>COTTON, MN</td>\n",
       "    </tr>\n",
       "    <tr>\n",
       "      <th>Country</th>\n",
       "      <td>United States</td>\n",
       "      <td>United States</td>\n",
       "      <td>United States</td>\n",
       "      <td>United States</td>\n",
       "      <td>United States</td>\n",
       "      <td>United States</td>\n",
       "      <td>United States</td>\n",
       "    </tr>\n",
       "    <tr>\n",
       "      <th>Latitude</th>\n",
       "      <td>NaN</td>\n",
       "      <td>NaN</td>\n",
       "      <td>36.9222</td>\n",
       "      <td>NaN</td>\n",
       "      <td>NaN</td>\n",
       "      <td>42.4453</td>\n",
       "      <td>NaN</td>\n",
       "    </tr>\n",
       "    <tr>\n",
       "      <th>Longitude</th>\n",
       "      <td>NaN</td>\n",
       "      <td>NaN</td>\n",
       "      <td>-81.8781</td>\n",
       "      <td>NaN</td>\n",
       "      <td>NaN</td>\n",
       "      <td>-70.7583</td>\n",
       "      <td>NaN</td>\n",
       "    </tr>\n",
       "    <tr>\n",
       "      <th>Airport.Code</th>\n",
       "      <td>NaN</td>\n",
       "      <td>NaN</td>\n",
       "      <td>NaN</td>\n",
       "      <td>NaN</td>\n",
       "      <td>NaN</td>\n",
       "      <td>NaN</td>\n",
       "      <td>NaN</td>\n",
       "    </tr>\n",
       "    <tr>\n",
       "      <th>Airport.Name</th>\n",
       "      <td>NaN</td>\n",
       "      <td>NaN</td>\n",
       "      <td>NaN</td>\n",
       "      <td>NaN</td>\n",
       "      <td>NaN</td>\n",
       "      <td>NaN</td>\n",
       "      <td>NaN</td>\n",
       "    </tr>\n",
       "    <tr>\n",
       "      <th>Injury.Severity</th>\n",
       "      <td>Fatal(2)</td>\n",
       "      <td>Fatal(4)</td>\n",
       "      <td>Fatal(3)</td>\n",
       "      <td>Fatal(2)</td>\n",
       "      <td>Fatal(1)</td>\n",
       "      <td>Non-Fatal</td>\n",
       "      <td>Fatal(4)</td>\n",
       "    </tr>\n",
       "    <tr>\n",
       "      <th>Aircraft.damage</th>\n",
       "      <td>Destroyed</td>\n",
       "      <td>Destroyed</td>\n",
       "      <td>Destroyed</td>\n",
       "      <td>Destroyed</td>\n",
       "      <td>Destroyed</td>\n",
       "      <td>Substantial</td>\n",
       "      <td>Destroyed</td>\n",
       "    </tr>\n",
       "    <tr>\n",
       "      <th>Aircraft.Category</th>\n",
       "      <td>NaN</td>\n",
       "      <td>NaN</td>\n",
       "      <td>NaN</td>\n",
       "      <td>NaN</td>\n",
       "      <td>NaN</td>\n",
       "      <td>Airplane</td>\n",
       "      <td>NaN</td>\n",
       "    </tr>\n",
       "    <tr>\n",
       "      <th>Registration.Number</th>\n",
       "      <td>NC6404</td>\n",
       "      <td>N5069P</td>\n",
       "      <td>N5142R</td>\n",
       "      <td>N1168J</td>\n",
       "      <td>N15NY</td>\n",
       "      <td>CF-TLU</td>\n",
       "      <td>N4988E</td>\n",
       "    </tr>\n",
       "    <tr>\n",
       "      <th>Make</th>\n",
       "      <td>Stinson</td>\n",
       "      <td>Piper</td>\n",
       "      <td>Cessna</td>\n",
       "      <td>Rockwell</td>\n",
       "      <td>Cessna</td>\n",
       "      <td>Mcdonnell Douglas</td>\n",
       "      <td>Cessna</td>\n",
       "    </tr>\n",
       "    <tr>\n",
       "      <th>Model</th>\n",
       "      <td>108-3</td>\n",
       "      <td>PA24-180</td>\n",
       "      <td>172M</td>\n",
       "      <td>112</td>\n",
       "      <td>501</td>\n",
       "      <td>DC9</td>\n",
       "      <td>180</td>\n",
       "    </tr>\n",
       "    <tr>\n",
       "      <th>Amateur.Built</th>\n",
       "      <td>No</td>\n",
       "      <td>No</td>\n",
       "      <td>No</td>\n",
       "      <td>No</td>\n",
       "      <td>No</td>\n",
       "      <td>No</td>\n",
       "      <td>No</td>\n",
       "    </tr>\n",
       "    <tr>\n",
       "      <th>Number.of.Engines</th>\n",
       "      <td>1</td>\n",
       "      <td>1</td>\n",
       "      <td>1</td>\n",
       "      <td>1</td>\n",
       "      <td>NaN</td>\n",
       "      <td>2</td>\n",
       "      <td>1</td>\n",
       "    </tr>\n",
       "    <tr>\n",
       "      <th>Engine.Type</th>\n",
       "      <td>Reciprocating</td>\n",
       "      <td>Reciprocating</td>\n",
       "      <td>Reciprocating</td>\n",
       "      <td>Reciprocating</td>\n",
       "      <td>NaN</td>\n",
       "      <td>Turbo Fan</td>\n",
       "      <td>Reciprocating</td>\n",
       "    </tr>\n",
       "    <tr>\n",
       "      <th>FAR.Description</th>\n",
       "      <td>NaN</td>\n",
       "      <td>NaN</td>\n",
       "      <td>NaN</td>\n",
       "      <td>NaN</td>\n",
       "      <td>NaN</td>\n",
       "      <td>Part 129: Foreign</td>\n",
       "      <td>NaN</td>\n",
       "    </tr>\n",
       "    <tr>\n",
       "      <th>Schedule</th>\n",
       "      <td>NaN</td>\n",
       "      <td>NaN</td>\n",
       "      <td>NaN</td>\n",
       "      <td>NaN</td>\n",
       "      <td>NaN</td>\n",
       "      <td>SCHD</td>\n",
       "      <td>NaN</td>\n",
       "    </tr>\n",
       "    <tr>\n",
       "      <th>Purpose.of.flight</th>\n",
       "      <td>Personal</td>\n",
       "      <td>Personal</td>\n",
       "      <td>Personal</td>\n",
       "      <td>Personal</td>\n",
       "      <td>Personal</td>\n",
       "      <td>NaN</td>\n",
       "      <td>Personal</td>\n",
       "    </tr>\n",
       "    <tr>\n",
       "      <th>Air.carrier</th>\n",
       "      <td>NaN</td>\n",
       "      <td>NaN</td>\n",
       "      <td>NaN</td>\n",
       "      <td>NaN</td>\n",
       "      <td>NaN</td>\n",
       "      <td>Air Canada</td>\n",
       "      <td>NaN</td>\n",
       "    </tr>\n",
       "    <tr>\n",
       "      <th>Total.Fatal.Injuries</th>\n",
       "      <td>2</td>\n",
       "      <td>4</td>\n",
       "      <td>3</td>\n",
       "      <td>2</td>\n",
       "      <td>1</td>\n",
       "      <td>NaN</td>\n",
       "      <td>4</td>\n",
       "    </tr>\n",
       "    <tr>\n",
       "      <th>Total.Serious.Injuries</th>\n",
       "      <td>0</td>\n",
       "      <td>0</td>\n",
       "      <td>NaN</td>\n",
       "      <td>0</td>\n",
       "      <td>2</td>\n",
       "      <td>NaN</td>\n",
       "      <td>0</td>\n",
       "    </tr>\n",
       "    <tr>\n",
       "      <th>Total.Minor.Injuries</th>\n",
       "      <td>0</td>\n",
       "      <td>0</td>\n",
       "      <td>NaN</td>\n",
       "      <td>0</td>\n",
       "      <td>NaN</td>\n",
       "      <td>1</td>\n",
       "      <td>0</td>\n",
       "    </tr>\n",
       "    <tr>\n",
       "      <th>Total.Uninjured</th>\n",
       "      <td>0</td>\n",
       "      <td>0</td>\n",
       "      <td>NaN</td>\n",
       "      <td>0</td>\n",
       "      <td>0</td>\n",
       "      <td>44</td>\n",
       "      <td>0</td>\n",
       "    </tr>\n",
       "    <tr>\n",
       "      <th>Weather.Condition</th>\n",
       "      <td>UNK</td>\n",
       "      <td>UNK</td>\n",
       "      <td>IMC</td>\n",
       "      <td>IMC</td>\n",
       "      <td>VMC</td>\n",
       "      <td>VMC</td>\n",
       "      <td>IMC</td>\n",
       "    </tr>\n",
       "    <tr>\n",
       "      <th>Broad.phase.of.flight</th>\n",
       "      <td>Cruise</td>\n",
       "      <td>Unknown</td>\n",
       "      <td>Cruise</td>\n",
       "      <td>Cruise</td>\n",
       "      <td>Approach</td>\n",
       "      <td>Climb</td>\n",
       "      <td>Unknown</td>\n",
       "    </tr>\n",
       "    <tr>\n",
       "      <th>Report.Status</th>\n",
       "      <td>Probable Cause</td>\n",
       "      <td>Probable Cause</td>\n",
       "      <td>Probable Cause</td>\n",
       "      <td>Probable Cause</td>\n",
       "      <td>Probable Cause</td>\n",
       "      <td>Probable Cause</td>\n",
       "      <td>Probable Cause</td>\n",
       "    </tr>\n",
       "    <tr>\n",
       "      <th>Publication.Date</th>\n",
       "      <td>NaN</td>\n",
       "      <td>19-09-1996</td>\n",
       "      <td>26-02-2007</td>\n",
       "      <td>12-09-2000</td>\n",
       "      <td>16-04-1980</td>\n",
       "      <td>19-09-2017</td>\n",
       "      <td>06-11-2001</td>\n",
       "    </tr>\n",
       "  </tbody>\n",
       "</table>\n",
       "</div>"
      ],
      "text/plain": [
       "                                      0               1               2  \\\n",
       "Event.Id                 20001218X45444  20001218X45447  20061025X01555   \n",
       "Investigation.Type             Accident        Accident        Accident   \n",
       "Accident.Number              SEA87LA080      LAX94LA336      NYC07LA005   \n",
       "Event.Date                   1948-10-24      1962-07-19      1974-08-30   \n",
       "Location                MOOSE CREEK, ID  BRIDGEPORT, CA   Saltville, VA   \n",
       "Country                   United States   United States   United States   \n",
       "Latitude                            NaN             NaN         36.9222   \n",
       "Longitude                           NaN             NaN        -81.8781   \n",
       "Airport.Code                        NaN             NaN             NaN   \n",
       "Airport.Name                        NaN             NaN             NaN   \n",
       "Injury.Severity                Fatal(2)        Fatal(4)        Fatal(3)   \n",
       "Aircraft.damage               Destroyed       Destroyed       Destroyed   \n",
       "Aircraft.Category                   NaN             NaN             NaN   \n",
       "Registration.Number              NC6404          N5069P          N5142R   \n",
       "Make                            Stinson           Piper          Cessna   \n",
       "Model                             108-3        PA24-180            172M   \n",
       "Amateur.Built                        No              No              No   \n",
       "Number.of.Engines                     1               1               1   \n",
       "Engine.Type               Reciprocating   Reciprocating   Reciprocating   \n",
       "FAR.Description                     NaN             NaN             NaN   \n",
       "Schedule                            NaN             NaN             NaN   \n",
       "Purpose.of.flight              Personal        Personal        Personal   \n",
       "Air.carrier                         NaN             NaN             NaN   \n",
       "Total.Fatal.Injuries                  2               4               3   \n",
       "Total.Serious.Injuries                0               0             NaN   \n",
       "Total.Minor.Injuries                  0               0             NaN   \n",
       "Total.Uninjured                       0               0             NaN   \n",
       "Weather.Condition                   UNK             UNK             IMC   \n",
       "Broad.phase.of.flight            Cruise         Unknown          Cruise   \n",
       "Report.Status            Probable Cause  Probable Cause  Probable Cause   \n",
       "Publication.Date                    NaN      19-09-1996      26-02-2007   \n",
       "\n",
       "                                     3               4                  5  \\\n",
       "Event.Id                20001218X45448  20041105X01764     20170710X52551   \n",
       "Investigation.Type            Accident        Accident           Accident   \n",
       "Accident.Number             LAX96LA321      CHI79FA064         NYC79AA106   \n",
       "Event.Date                  1977-06-19      1979-08-02         1979-09-17   \n",
       "Location                    EUREKA, CA      Canton, OH         BOSTON, MA   \n",
       "Country                  United States   United States      United States   \n",
       "Latitude                           NaN             NaN            42.4453   \n",
       "Longitude                          NaN             NaN           -70.7583   \n",
       "Airport.Code                       NaN             NaN                NaN   \n",
       "Airport.Name                       NaN             NaN                NaN   \n",
       "Injury.Severity               Fatal(2)        Fatal(1)          Non-Fatal   \n",
       "Aircraft.damage              Destroyed       Destroyed        Substantial   \n",
       "Aircraft.Category                  NaN             NaN           Airplane   \n",
       "Registration.Number             N1168J           N15NY             CF-TLU   \n",
       "Make                          Rockwell          Cessna  Mcdonnell Douglas   \n",
       "Model                              112             501                DC9   \n",
       "Amateur.Built                       No              No                 No   \n",
       "Number.of.Engines                    1             NaN                  2   \n",
       "Engine.Type              Reciprocating             NaN          Turbo Fan   \n",
       "FAR.Description                    NaN             NaN  Part 129: Foreign   \n",
       "Schedule                           NaN             NaN               SCHD   \n",
       "Purpose.of.flight             Personal        Personal                NaN   \n",
       "Air.carrier                        NaN             NaN         Air Canada   \n",
       "Total.Fatal.Injuries                 2               1                NaN   \n",
       "Total.Serious.Injuries               0               2                NaN   \n",
       "Total.Minor.Injuries                 0             NaN                  1   \n",
       "Total.Uninjured                      0               0                 44   \n",
       "Weather.Condition                  IMC             VMC                VMC   \n",
       "Broad.phase.of.flight           Cruise        Approach              Climb   \n",
       "Report.Status           Probable Cause  Probable Cause     Probable Cause   \n",
       "Publication.Date            12-09-2000      16-04-1980         19-09-2017   \n",
       "\n",
       "                                     6  \n",
       "Event.Id                20001218X45446  \n",
       "Investigation.Type            Accident  \n",
       "Accident.Number             CHI81LA106  \n",
       "Event.Date                  1981-08-01  \n",
       "Location                    COTTON, MN  \n",
       "Country                  United States  \n",
       "Latitude                           NaN  \n",
       "Longitude                          NaN  \n",
       "Airport.Code                       NaN  \n",
       "Airport.Name                       NaN  \n",
       "Injury.Severity               Fatal(4)  \n",
       "Aircraft.damage              Destroyed  \n",
       "Aircraft.Category                  NaN  \n",
       "Registration.Number             N4988E  \n",
       "Make                            Cessna  \n",
       "Model                              180  \n",
       "Amateur.Built                       No  \n",
       "Number.of.Engines                    1  \n",
       "Engine.Type              Reciprocating  \n",
       "FAR.Description                    NaN  \n",
       "Schedule                           NaN  \n",
       "Purpose.of.flight             Personal  \n",
       "Air.carrier                        NaN  \n",
       "Total.Fatal.Injuries                 4  \n",
       "Total.Serious.Injuries               0  \n",
       "Total.Minor.Injuries                 0  \n",
       "Total.Uninjured                      0  \n",
       "Weather.Condition                  IMC  \n",
       "Broad.phase.of.flight          Unknown  \n",
       "Report.Status           Probable Cause  \n",
       "Publication.Date            06-11-2001  "
      ]
     },
     "execution_count": 2,
     "metadata": {},
     "output_type": "execute_result"
    }
   ],
   "source": [
    "df = pd.read_csv('AviationData.csv', encoding='latin-1');\n",
    "df.head(7).T"
   ]
  },
  {
   "cell_type": "markdown",
   "metadata": {},
   "source": [
    "Now you want to get familiar with the data.  This step includes:\n",
    "\n",
    "* Understanding the dimensionality of your dataset\n",
    "* Investigating what type of data it contains, and the data types used to store it\n",
    "* Discovering how missing values are encoded, and how many there are\n",
    "* Getting a feel for what information it does and doesn't contain\n",
    "\n",
    "In the cell below, we inspect the overall `shape` of the dataframe:"
   ]
  },
  {
   "cell_type": "code",
   "execution_count": 3,
   "metadata": {},
   "outputs": [
    {
     "name": "stdout",
     "output_type": "stream",
     "text": [
      "There are 88889 rows in the dataset!\n",
      "There are 31 columns in the dataset!\n"
     ]
    }
   ],
   "source": [
    "num_rows = df.shape[0] #Provides the number of rows in the dataset\n",
    "num_cols = df.shape[1] #Provides the number of columns in the dataset\n",
    "\n",
    "print(f\"There are {num_rows} rows in the dataset!\") #Using string cancatenation to print the number of rows in the dataset\n",
    "print(f\"There are {num_cols} columns in the dataset!\") #Using string cancatenation to print the number of columns in the dataset"
   ]
  },
  {
   "cell_type": "markdown",
   "metadata": {},
   "source": [
    "Let's also look at the info printout:"
   ]
  },
  {
   "cell_type": "code",
   "execution_count": 4,
   "metadata": {},
   "outputs": [
    {
     "name": "stdout",
     "output_type": "stream",
     "text": [
      "<class 'pandas.core.frame.DataFrame'>\n",
      "RangeIndex: 88889 entries, 0 to 88888\n",
      "Data columns (total 31 columns):\n",
      " #   Column                  Non-Null Count  Dtype  \n",
      "---  ------                  --------------  -----  \n",
      " 0   Event.Id                88889 non-null  object \n",
      " 1   Investigation.Type      88889 non-null  object \n",
      " 2   Accident.Number         88889 non-null  object \n",
      " 3   Event.Date              88889 non-null  object \n",
      " 4   Location                88837 non-null  object \n",
      " 5   Country                 88663 non-null  object \n",
      " 6   Latitude                34382 non-null  object \n",
      " 7   Longitude               34373 non-null  object \n",
      " 8   Airport.Code            50249 non-null  object \n",
      " 9   Airport.Name            52790 non-null  object \n",
      " 10  Injury.Severity         87889 non-null  object \n",
      " 11  Aircraft.damage         85695 non-null  object \n",
      " 12  Aircraft.Category       32287 non-null  object \n",
      " 13  Registration.Number     87572 non-null  object \n",
      " 14  Make                    88826 non-null  object \n",
      " 15  Model                   88797 non-null  object \n",
      " 16  Amateur.Built           88787 non-null  object \n",
      " 17  Number.of.Engines       82805 non-null  float64\n",
      " 18  Engine.Type             81812 non-null  object \n",
      " 19  FAR.Description         32023 non-null  object \n",
      " 20  Schedule                12582 non-null  object \n",
      " 21  Purpose.of.flight       82697 non-null  object \n",
      " 22  Air.carrier             16648 non-null  object \n",
      " 23  Total.Fatal.Injuries    77488 non-null  float64\n",
      " 24  Total.Serious.Injuries  76379 non-null  float64\n",
      " 25  Total.Minor.Injuries    76956 non-null  float64\n",
      " 26  Total.Uninjured         82977 non-null  float64\n",
      " 27  Weather.Condition       84397 non-null  object \n",
      " 28  Broad.phase.of.flight   61724 non-null  object \n",
      " 29  Report.Status           82508 non-null  object \n",
      " 30  Publication.Date        75118 non-null  object \n",
      "dtypes: float64(5), object(26)\n",
      "memory usage: 21.0+ MB\n"
     ]
    }
   ],
   "source": [
    "df.info() #Used to print out information about the dataset"
   ]
  },
  {
   "cell_type": "code",
   "execution_count": 5,
   "metadata": {},
   "outputs": [
    {
     "data": {
      "text/plain": [
       "'\\nFrom the above information, we notice that the dataset has 5 columns which are Numeric / of float datatype\\nand 26 columns which are of strings datatype.\\n\\nOver 95% of the columns in the dataset contain missing values and that means that the dataset has to be cleaned\\nbefore being used to perform any type of analysis.\\n'"
      ]
     },
     "execution_count": 5,
     "metadata": {},
     "output_type": "execute_result"
    }
   ],
   "source": [
    "#Interpretation of the above information:\n",
    "\"\"\"\n",
    "From the above information, we notice that the dataset has 5 columns which are Numeric / of float datatype\n",
    "and 26 columns which are of strings datatype.\n",
    "\n",
    "Over 95% of the columns in the dataset contain missing values and that means that the dataset has to be cleaned\n",
    "before being used to perform any type of analysis.\n",
    "\"\"\""
   ]
  },
  {
   "cell_type": "markdown",
   "metadata": {},
   "source": [
    "## 2. Data Preparation"
   ]
  },
  {
   "cell_type": "markdown",
   "metadata": {},
   "source": [
    "The first question that we need to answer here is which are some of the fields that contain missing data?"
   ]
  },
  {
   "cell_type": "code",
   "execution_count": 6,
   "metadata": {},
   "outputs": [
    {
     "data": {
      "text/plain": [
       "Event.Id                      0\n",
       "Investigation.Type            0\n",
       "Accident.Number               0\n",
       "Event.Date                    0\n",
       "Location                     52\n",
       "Country                     226\n",
       "Latitude                  54507\n",
       "Longitude                 54516\n",
       "Airport.Code              38640\n",
       "Airport.Name              36099\n",
       "Injury.Severity            1000\n",
       "Aircraft.damage            3194\n",
       "Aircraft.Category         56602\n",
       "Registration.Number        1317\n",
       "Make                         63\n",
       "Model                        92\n",
       "Amateur.Built               102\n",
       "Number.of.Engines          6084\n",
       "Engine.Type                7077\n",
       "FAR.Description           56866\n",
       "Schedule                  76307\n",
       "Purpose.of.flight          6192\n",
       "Air.carrier               72241\n",
       "Total.Fatal.Injuries      11401\n",
       "Total.Serious.Injuries    12510\n",
       "Total.Minor.Injuries      11933\n",
       "Total.Uninjured            5912\n",
       "Weather.Condition          4492\n",
       "Broad.phase.of.flight     27165\n",
       "Report.Status              6381\n",
       "Publication.Date          13771\n",
       "dtype: int64"
      ]
     },
     "execution_count": 6,
     "metadata": {},
     "output_type": "execute_result"
    }
   ],
   "source": [
    "df.isnull().sum()"
   ]
  },
  {
   "cell_type": "code",
   "execution_count": 7,
   "metadata": {},
   "outputs": [
    {
     "data": {
      "text/plain": [
       "Event.Id                   0.000000\n",
       "Investigation.Type         0.000000\n",
       "Accident.Number            0.000000\n",
       "Event.Date                 0.000000\n",
       "Location                   0.058500\n",
       "Country                    0.254250\n",
       "Latitude                  61.320298\n",
       "Longitude                 61.330423\n",
       "Airport.Code              43.469946\n",
       "Airport.Name              40.611324\n",
       "Injury.Severity            1.124999\n",
       "Aircraft.damage            3.593246\n",
       "Aircraft.Category         63.677170\n",
       "Registration.Number        1.481623\n",
       "Make                       0.070875\n",
       "Model                      0.103500\n",
       "Amateur.Built              0.114750\n",
       "Number.of.Engines          6.844491\n",
       "Engine.Type                7.961615\n",
       "FAR.Description           63.974170\n",
       "Schedule                  85.845268\n",
       "Purpose.of.flight          6.965991\n",
       "Air.carrier               81.271023\n",
       "Total.Fatal.Injuries      12.826109\n",
       "Total.Serious.Injuries    14.073732\n",
       "Total.Minor.Injuries      13.424608\n",
       "Total.Uninjured            6.650992\n",
       "Weather.Condition          5.053494\n",
       "Broad.phase.of.flight     30.560587\n",
       "Report.Status              7.178616\n",
       "Publication.Date          15.492356\n",
       "dtype: float64"
      ]
     },
     "execution_count": 7,
     "metadata": {},
     "output_type": "execute_result"
    }
   ],
   "source": [
    "df.isnull().mean()*100"
   ]
  },
  {
   "cell_type": "markdown",
   "metadata": {},
   "source": [
    "### Select the relevant columns to be used in aswering the questions"
   ]
  },
  {
   "cell_type": "code",
   "execution_count": 8,
   "metadata": {},
   "outputs": [],
   "source": [
    "# Writing code that will only keep the relevant columns to be used in answering our questions\n",
    "df = df[['Accident.Number',\n",
    "        'Event.Date',\n",
    "        'Location',\n",
    "        'Country',\n",
    "        'Investigation.Type',\n",
    "        'Injury.Severity',\n",
    "        'Registration.Number',\n",
    "        'Make',\n",
    "        'Model',\n",
    "        'Amateur.Built',\n",
    "        'Number.of.Engines',\n",
    "        'Total.Fatal.Injuries',\n",
    "        'Total.Serious.Injuries',\n",
    "        'Total.Minor.Injuries',\n",
    "        'Total.Uninjured',\n",
    "        'Broad.phase.of.flight',\n",
    "        'Weather.Condition'\n",
    "        ]]"
   ]
  },
  {
   "cell_type": "markdown",
   "metadata": {},
   "source": [
    "Inspect the first five entries of the new df"
   ]
  },
  {
   "cell_type": "code",
   "execution_count": 9,
   "metadata": {},
   "outputs": [
    {
     "data": {
      "text/html": [
       "<div>\n",
       "<style scoped>\n",
       "    .dataframe tbody tr th:only-of-type {\n",
       "        vertical-align: middle;\n",
       "    }\n",
       "\n",
       "    .dataframe tbody tr th {\n",
       "        vertical-align: top;\n",
       "    }\n",
       "\n",
       "    .dataframe thead th {\n",
       "        text-align: right;\n",
       "    }\n",
       "</style>\n",
       "<table border=\"1\" class=\"dataframe\">\n",
       "  <thead>\n",
       "    <tr style=\"text-align: right;\">\n",
       "      <th></th>\n",
       "      <th>Accident.Number</th>\n",
       "      <th>Event.Date</th>\n",
       "      <th>Location</th>\n",
       "      <th>Country</th>\n",
       "      <th>Investigation.Type</th>\n",
       "      <th>Injury.Severity</th>\n",
       "      <th>Registration.Number</th>\n",
       "      <th>Make</th>\n",
       "      <th>Model</th>\n",
       "      <th>Amateur.Built</th>\n",
       "      <th>Number.of.Engines</th>\n",
       "      <th>Total.Fatal.Injuries</th>\n",
       "      <th>Total.Serious.Injuries</th>\n",
       "      <th>Total.Minor.Injuries</th>\n",
       "      <th>Total.Uninjured</th>\n",
       "      <th>Broad.phase.of.flight</th>\n",
       "      <th>Weather.Condition</th>\n",
       "    </tr>\n",
       "  </thead>\n",
       "  <tbody>\n",
       "    <tr>\n",
       "      <th>0</th>\n",
       "      <td>SEA87LA080</td>\n",
       "      <td>1948-10-24</td>\n",
       "      <td>MOOSE CREEK, ID</td>\n",
       "      <td>United States</td>\n",
       "      <td>Accident</td>\n",
       "      <td>Fatal(2)</td>\n",
       "      <td>NC6404</td>\n",
       "      <td>Stinson</td>\n",
       "      <td>108-3</td>\n",
       "      <td>No</td>\n",
       "      <td>1.0</td>\n",
       "      <td>2.0</td>\n",
       "      <td>0.0</td>\n",
       "      <td>0.0</td>\n",
       "      <td>0.0</td>\n",
       "      <td>Cruise</td>\n",
       "      <td>UNK</td>\n",
       "    </tr>\n",
       "    <tr>\n",
       "      <th>1</th>\n",
       "      <td>LAX94LA336</td>\n",
       "      <td>1962-07-19</td>\n",
       "      <td>BRIDGEPORT, CA</td>\n",
       "      <td>United States</td>\n",
       "      <td>Accident</td>\n",
       "      <td>Fatal(4)</td>\n",
       "      <td>N5069P</td>\n",
       "      <td>Piper</td>\n",
       "      <td>PA24-180</td>\n",
       "      <td>No</td>\n",
       "      <td>1.0</td>\n",
       "      <td>4.0</td>\n",
       "      <td>0.0</td>\n",
       "      <td>0.0</td>\n",
       "      <td>0.0</td>\n",
       "      <td>Unknown</td>\n",
       "      <td>UNK</td>\n",
       "    </tr>\n",
       "    <tr>\n",
       "      <th>2</th>\n",
       "      <td>NYC07LA005</td>\n",
       "      <td>1974-08-30</td>\n",
       "      <td>Saltville, VA</td>\n",
       "      <td>United States</td>\n",
       "      <td>Accident</td>\n",
       "      <td>Fatal(3)</td>\n",
       "      <td>N5142R</td>\n",
       "      <td>Cessna</td>\n",
       "      <td>172M</td>\n",
       "      <td>No</td>\n",
       "      <td>1.0</td>\n",
       "      <td>3.0</td>\n",
       "      <td>NaN</td>\n",
       "      <td>NaN</td>\n",
       "      <td>NaN</td>\n",
       "      <td>Cruise</td>\n",
       "      <td>IMC</td>\n",
       "    </tr>\n",
       "    <tr>\n",
       "      <th>3</th>\n",
       "      <td>LAX96LA321</td>\n",
       "      <td>1977-06-19</td>\n",
       "      <td>EUREKA, CA</td>\n",
       "      <td>United States</td>\n",
       "      <td>Accident</td>\n",
       "      <td>Fatal(2)</td>\n",
       "      <td>N1168J</td>\n",
       "      <td>Rockwell</td>\n",
       "      <td>112</td>\n",
       "      <td>No</td>\n",
       "      <td>1.0</td>\n",
       "      <td>2.0</td>\n",
       "      <td>0.0</td>\n",
       "      <td>0.0</td>\n",
       "      <td>0.0</td>\n",
       "      <td>Cruise</td>\n",
       "      <td>IMC</td>\n",
       "    </tr>\n",
       "    <tr>\n",
       "      <th>4</th>\n",
       "      <td>CHI79FA064</td>\n",
       "      <td>1979-08-02</td>\n",
       "      <td>Canton, OH</td>\n",
       "      <td>United States</td>\n",
       "      <td>Accident</td>\n",
       "      <td>Fatal(1)</td>\n",
       "      <td>N15NY</td>\n",
       "      <td>Cessna</td>\n",
       "      <td>501</td>\n",
       "      <td>No</td>\n",
       "      <td>NaN</td>\n",
       "      <td>1.0</td>\n",
       "      <td>2.0</td>\n",
       "      <td>NaN</td>\n",
       "      <td>0.0</td>\n",
       "      <td>Approach</td>\n",
       "      <td>VMC</td>\n",
       "    </tr>\n",
       "  </tbody>\n",
       "</table>\n",
       "</div>"
      ],
      "text/plain": [
       "  Accident.Number  Event.Date         Location        Country  \\\n",
       "0      SEA87LA080  1948-10-24  MOOSE CREEK, ID  United States   \n",
       "1      LAX94LA336  1962-07-19   BRIDGEPORT, CA  United States   \n",
       "2      NYC07LA005  1974-08-30    Saltville, VA  United States   \n",
       "3      LAX96LA321  1977-06-19       EUREKA, CA  United States   \n",
       "4      CHI79FA064  1979-08-02       Canton, OH  United States   \n",
       "\n",
       "  Investigation.Type Injury.Severity Registration.Number      Make     Model  \\\n",
       "0           Accident        Fatal(2)              NC6404   Stinson     108-3   \n",
       "1           Accident        Fatal(4)              N5069P     Piper  PA24-180   \n",
       "2           Accident        Fatal(3)              N5142R    Cessna      172M   \n",
       "3           Accident        Fatal(2)              N1168J  Rockwell       112   \n",
       "4           Accident        Fatal(1)               N15NY    Cessna       501   \n",
       "\n",
       "  Amateur.Built  Number.of.Engines  Total.Fatal.Injuries  \\\n",
       "0            No                1.0                   2.0   \n",
       "1            No                1.0                   4.0   \n",
       "2            No                1.0                   3.0   \n",
       "3            No                1.0                   2.0   \n",
       "4            No                NaN                   1.0   \n",
       "\n",
       "   Total.Serious.Injuries  Total.Minor.Injuries  Total.Uninjured  \\\n",
       "0                     0.0                   0.0              0.0   \n",
       "1                     0.0                   0.0              0.0   \n",
       "2                     NaN                   NaN              NaN   \n",
       "3                     0.0                   0.0              0.0   \n",
       "4                     2.0                   NaN              0.0   \n",
       "\n",
       "  Broad.phase.of.flight Weather.Condition  \n",
       "0                Cruise               UNK  \n",
       "1               Unknown               UNK  \n",
       "2                Cruise               IMC  \n",
       "3                Cruise               IMC  \n",
       "4              Approach               VMC  "
      ]
     },
     "execution_count": 9,
     "metadata": {},
     "output_type": "execute_result"
    }
   ],
   "source": [
    "df.head()"
   ]
  },
  {
   "cell_type": "markdown",
   "metadata": {},
   "source": [
    "### Handling missing values\n",
    "First, we can tackle handling missing values for some of the relevant colums in our newly created `df`. This columns are:\n",
    "* Number.of.Engines\n",
    "* Total.Fatal.Injuries\n",
    "* Total.Serious.Injuries\n",
    "* Total.Minor.Injuries  \n",
    "* Total.Uninjured\n",
    "* Injury.Severity\n",
    "* Broad.phase.of.flight\n",
    "* Weather.Condition\n",
    "\n",
    "For handling the missing values for this columns, I chose to replace the missing values with the `modes` of each of the columns.\n",
    "This is because the mode represents the most frequently occurring value in a dataset, which can be a reasonable estimate for missing values. Using the mode helps maintain the distribution of the data and avoids introducing bias that might occur with other imputation methods like mean or median, especially in cases where the data is skewed or has outliers."
   ]
  },
  {
   "cell_type": "code",
   "execution_count": 10,
   "metadata": {},
   "outputs": [
    {
     "name": "stdout",
     "output_type": "stream",
     "text": [
      "0    1.0\n",
      "dtype: float64\n",
      "0    0.0\n",
      "dtype: float64\n",
      "0    0.0\n",
      "dtype: float64\n",
      "0    0.0\n",
      "dtype: float64\n",
      "0    0.0\n",
      "dtype: float64\n",
      "0    Non-Fatal\n",
      "dtype: object\n",
      "0    Landing\n",
      "dtype: object\n",
      "0    VMC\n",
      "dtype: object\n"
     ]
    }
   ],
   "source": [
    "print(df['Number.of.Engines'].mode())\n",
    "print(df['Total.Fatal.Injuries'].mode())\n",
    "print(df['Total.Serious.Injuries'].mode())\n",
    "print(df['Total.Minor.Injuries'].mode())\n",
    "print(df['Total.Uninjured'].mode())\n",
    "print(df['Injury.Severity'].mode())\n",
    "print(df['Broad.phase.of.flight'].mode())\n",
    "print(df['Weather.Condition'].mode())"
   ]
  },
  {
   "cell_type": "code",
   "execution_count": 11,
   "metadata": {},
   "outputs": [],
   "source": [
    "# Replace those columns with their above respective modes\n",
    "df.fillna(value={'Number.of.Engines': 1,\n",
    "                 'Total.Fatal.Injuries': 0,\n",
    "                 'Total.Serious.Injuries': 0,\n",
    "                 'Total.Minor.Injuries': 0,\n",
    "                 'Total.Uninjured': 0,\n",
    "                 'Injury.Severity' : 'Non-Fatal',\n",
    "                 'Broad.phase.of.flight': 'Landing',\n",
    "                 'Weather.Condition': 'VMC'}, \n",
    "          inplace = True)\n"
   ]
  },
  {
   "cell_type": "markdown",
   "metadata": {},
   "source": [
    "### Country Counts"
   ]
  },
  {
   "cell_type": "markdown",
   "metadata": {},
   "source": [
    "The next step will be to check the number of entries for each of the countries that are available in our dataset"
   ]
  },
  {
   "cell_type": "code",
   "execution_count": 12,
   "metadata": {},
   "outputs": [
    {
     "data": {
      "text/plain": [
       "United States                    82248\n",
       "Brazil                             374\n",
       "Canada                             359\n",
       "Mexico                             358\n",
       "United Kingdom                     344\n",
       "                                 ...  \n",
       "Cambodia                             1\n",
       "St Vincent And The Grenadines        1\n",
       "Gibraltar                            1\n",
       "Liberia                              1\n",
       "Pacific Ocean                        1\n",
       "Name: Country, Length: 219, dtype: int64"
      ]
     },
     "execution_count": 12,
     "metadata": {},
     "output_type": "execute_result"
    }
   ],
   "source": [
    "df['Country'].value_counts()"
   ]
  },
  {
   "cell_type": "code",
   "execution_count": 13,
   "metadata": {
    "scrolled": false
   },
   "outputs": [
    {
     "data": {
      "image/png": "[encoded data removed]",
      "text/plain": [
       "<Figure size 576x432 with 1 Axes>"
      ]
     },
     "metadata": {
      "needs_background": "light"
     },
     "output_type": "display_data"
    }
   ],
   "source": [
    "# Calculate the top 5 countries by value counts, normalized to percentage\n",
    "country_vals = df['Country'].value_counts(normalize=True, dropna=False)[:5] * 100\n",
    "\n",
    "# Create a bar plot using matplotlib\n",
    "plt.figure(figsize=(8, 6))\n",
    "plt.bar(country_vals.index, country_vals.values, edgecolor='black')\n",
    "plt.xlabel('Country')\n",
    "plt.ylabel('Percentage')\n",
    "plt.title('Top 10 Countries by Percentage')\n",
    "plt.xticks(rotation=90)\n",
    "plt.show()"
   ]
  },
  {
   "cell_type": "markdown",
   "metadata": {},
   "source": [
    "As seen from the visualization above, the United states is the most dominant country in our dataset with over 90% of data, followed by Brazil, Canada, Mexico and United Kingdom."
   ]
  },
  {
   "cell_type": "markdown",
   "metadata": {},
   "source": [
    "Because of that, we can choose to let's focus on these accident in the United States with at least one fatality, from data after Jan. 1962."
   ]
  },
  {
   "cell_type": "code",
   "execution_count": 14,
   "metadata": {},
   "outputs": [],
   "source": [
    "df['Date'] = pd.to_datetime(df['Event.Date'])\n",
    "df.drop('Event.Date', axis=1, inplace=True)\n",
    "\n",
    "df_fatal = df.loc[(df['Total.Fatal.Injuries']>0) &\n",
    "           (df['Date']>='1962-01') &\n",
    "           (df['Country'] == 'United States'),\n",
    "            :]"
   ]
  },
  {
   "cell_type": "code",
   "execution_count": 15,
   "metadata": {},
   "outputs": [
    {
     "data": {
      "text/html": [
       "<div>\n",
       "<style scoped>\n",
       "    .dataframe tbody tr th:only-of-type {\n",
       "        vertical-align: middle;\n",
       "    }\n",
       "\n",
       "    .dataframe tbody tr th {\n",
       "        vertical-align: top;\n",
       "    }\n",
       "\n",
       "    .dataframe thead th {\n",
       "        text-align: right;\n",
       "    }\n",
       "</style>\n",
       "<table border=\"1\" class=\"dataframe\">\n",
       "  <thead>\n",
       "    <tr style=\"text-align: right;\">\n",
       "      <th></th>\n",
       "      <th>Accident.Number</th>\n",
       "      <th>Location</th>\n",
       "      <th>Country</th>\n",
       "      <th>Investigation.Type</th>\n",
       "      <th>Injury.Severity</th>\n",
       "      <th>Registration.Number</th>\n",
       "      <th>Make</th>\n",
       "      <th>Model</th>\n",
       "      <th>Amateur.Built</th>\n",
       "      <th>Number.of.Engines</th>\n",
       "      <th>Total.Fatal.Injuries</th>\n",
       "      <th>Total.Serious.Injuries</th>\n",
       "      <th>Total.Minor.Injuries</th>\n",
       "      <th>Total.Uninjured</th>\n",
       "      <th>Broad.phase.of.flight</th>\n",
       "      <th>Weather.Condition</th>\n",
       "      <th>Date</th>\n",
       "    </tr>\n",
       "  </thead>\n",
       "  <tbody>\n",
       "    <tr>\n",
       "      <th>1</th>\n",
       "      <td>LAX94LA336</td>\n",
       "      <td>BRIDGEPORT, CA</td>\n",
       "      <td>United States</td>\n",
       "      <td>Accident</td>\n",
       "      <td>Fatal(4)</td>\n",
       "      <td>N5069P</td>\n",
       "      <td>Piper</td>\n",
       "      <td>PA24-180</td>\n",
       "      <td>No</td>\n",
       "      <td>1.0</td>\n",
       "      <td>4.0</td>\n",
       "      <td>0.0</td>\n",
       "      <td>0.0</td>\n",
       "      <td>0.0</td>\n",
       "      <td>Unknown</td>\n",
       "      <td>UNK</td>\n",
       "      <td>1962-07-19</td>\n",
       "    </tr>\n",
       "    <tr>\n",
       "      <th>2</th>\n",
       "      <td>NYC07LA005</td>\n",
       "      <td>Saltville, VA</td>\n",
       "      <td>United States</td>\n",
       "      <td>Accident</td>\n",
       "      <td>Fatal(3)</td>\n",
       "      <td>N5142R</td>\n",
       "      <td>Cessna</td>\n",
       "      <td>172M</td>\n",
       "      <td>No</td>\n",
       "      <td>1.0</td>\n",
       "      <td>3.0</td>\n",
       "      <td>0.0</td>\n",
       "      <td>0.0</td>\n",
       "      <td>0.0</td>\n",
       "      <td>Cruise</td>\n",
       "      <td>IMC</td>\n",
       "      <td>1974-08-30</td>\n",
       "    </tr>\n",
       "    <tr>\n",
       "      <th>3</th>\n",
       "      <td>LAX96LA321</td>\n",
       "      <td>EUREKA, CA</td>\n",
       "      <td>United States</td>\n",
       "      <td>Accident</td>\n",
       "      <td>Fatal(2)</td>\n",
       "      <td>N1168J</td>\n",
       "      <td>Rockwell</td>\n",
       "      <td>112</td>\n",
       "      <td>No</td>\n",
       "      <td>1.0</td>\n",
       "      <td>2.0</td>\n",
       "      <td>0.0</td>\n",
       "      <td>0.0</td>\n",
       "      <td>0.0</td>\n",
       "      <td>Cruise</td>\n",
       "      <td>IMC</td>\n",
       "      <td>1977-06-19</td>\n",
       "    </tr>\n",
       "    <tr>\n",
       "      <th>4</th>\n",
       "      <td>CHI79FA064</td>\n",
       "      <td>Canton, OH</td>\n",
       "      <td>United States</td>\n",
       "      <td>Accident</td>\n",
       "      <td>Fatal(1)</td>\n",
       "      <td>N15NY</td>\n",
       "      <td>Cessna</td>\n",
       "      <td>501</td>\n",
       "      <td>No</td>\n",
       "      <td>1.0</td>\n",
       "      <td>1.0</td>\n",
       "      <td>2.0</td>\n",
       "      <td>0.0</td>\n",
       "      <td>0.0</td>\n",
       "      <td>Approach</td>\n",
       "      <td>VMC</td>\n",
       "      <td>1979-08-02</td>\n",
       "    </tr>\n",
       "    <tr>\n",
       "      <th>6</th>\n",
       "      <td>CHI81LA106</td>\n",
       "      <td>COTTON, MN</td>\n",
       "      <td>United States</td>\n",
       "      <td>Accident</td>\n",
       "      <td>Fatal(4)</td>\n",
       "      <td>N4988E</td>\n",
       "      <td>Cessna</td>\n",
       "      <td>180</td>\n",
       "      <td>No</td>\n",
       "      <td>1.0</td>\n",
       "      <td>4.0</td>\n",
       "      <td>0.0</td>\n",
       "      <td>0.0</td>\n",
       "      <td>0.0</td>\n",
       "      <td>Unknown</td>\n",
       "      <td>IMC</td>\n",
       "      <td>1981-08-01</td>\n",
       "    </tr>\n",
       "  </tbody>\n",
       "</table>\n",
       "</div>"
      ],
      "text/plain": [
       "  Accident.Number        Location        Country Investigation.Type  \\\n",
       "1      LAX94LA336  BRIDGEPORT, CA  United States           Accident   \n",
       "2      NYC07LA005   Saltville, VA  United States           Accident   \n",
       "3      LAX96LA321      EUREKA, CA  United States           Accident   \n",
       "4      CHI79FA064      Canton, OH  United States           Accident   \n",
       "6      CHI81LA106      COTTON, MN  United States           Accident   \n",
       "\n",
       "  Injury.Severity Registration.Number      Make     Model Amateur.Built  \\\n",
       "1        Fatal(4)              N5069P     Piper  PA24-180            No   \n",
       "2        Fatal(3)              N5142R    Cessna      172M            No   \n",
       "3        Fatal(2)              N1168J  Rockwell       112            No   \n",
       "4        Fatal(1)               N15NY    Cessna       501            No   \n",
       "6        Fatal(4)              N4988E    Cessna       180            No   \n",
       "\n",
       "   Number.of.Engines  Total.Fatal.Injuries  Total.Serious.Injuries  \\\n",
       "1                1.0                   4.0                     0.0   \n",
       "2                1.0                   3.0                     0.0   \n",
       "3                1.0                   2.0                     0.0   \n",
       "4                1.0                   1.0                     2.0   \n",
       "6                1.0                   4.0                     0.0   \n",
       "\n",
       "   Total.Minor.Injuries  Total.Uninjured Broad.phase.of.flight  \\\n",
       "1                   0.0              0.0               Unknown   \n",
       "2                   0.0              0.0                Cruise   \n",
       "3                   0.0              0.0                Cruise   \n",
       "4                   0.0              0.0              Approach   \n",
       "6                   0.0              0.0               Unknown   \n",
       "\n",
       "  Weather.Condition       Date  \n",
       "1               UNK 1962-07-19  \n",
       "2               IMC 1974-08-30  \n",
       "3               IMC 1977-06-19  \n",
       "4               VMC 1979-08-02  \n",
       "6               IMC 1981-08-01  "
      ]
     },
     "execution_count": 15,
     "metadata": {},
     "output_type": "execute_result"
    }
   ],
   "source": [
    "df_fatal.head()"
   ]
  },
  {
   "cell_type": "code",
   "execution_count": 16,
   "metadata": {},
   "outputs": [
    {
     "data": {
      "text/html": [
       "<div>\n",
       "<style scoped>\n",
       "    .dataframe tbody tr th:only-of-type {\n",
       "        vertical-align: middle;\n",
       "    }\n",
       "\n",
       "    .dataframe tbody tr th {\n",
       "        vertical-align: top;\n",
       "    }\n",
       "\n",
       "    .dataframe thead th {\n",
       "        text-align: right;\n",
       "    }\n",
       "</style>\n",
       "<table border=\"1\" class=\"dataframe\">\n",
       "  <thead>\n",
       "    <tr style=\"text-align: right;\">\n",
       "      <th></th>\n",
       "      <th>Number.of.Engines</th>\n",
       "      <th>Total.Fatal.Injuries</th>\n",
       "      <th>Total.Serious.Injuries</th>\n",
       "      <th>Total.Minor.Injuries</th>\n",
       "      <th>Total.Uninjured</th>\n",
       "    </tr>\n",
       "  </thead>\n",
       "  <tbody>\n",
       "    <tr>\n",
       "      <th>count</th>\n",
       "      <td>15023.000000</td>\n",
       "      <td>15023.000000</td>\n",
       "      <td>15023.000000</td>\n",
       "      <td>15023.000000</td>\n",
       "      <td>15023.000000</td>\n",
       "    </tr>\n",
       "    <tr>\n",
       "      <th>mean</th>\n",
       "      <td>1.165080</td>\n",
       "      <td>2.009452</td>\n",
       "      <td>0.202756</td>\n",
       "      <td>0.146708</td>\n",
       "      <td>0.338548</td>\n",
       "    </tr>\n",
       "    <tr>\n",
       "      <th>std</th>\n",
       "      <td>0.417833</td>\n",
       "      <td>5.003558</td>\n",
       "      <td>1.948040</td>\n",
       "      <td>1.850249</td>\n",
       "      <td>6.541899</td>\n",
       "    </tr>\n",
       "    <tr>\n",
       "      <th>min</th>\n",
       "      <td>0.000000</td>\n",
       "      <td>1.000000</td>\n",
       "      <td>0.000000</td>\n",
       "      <td>0.000000</td>\n",
       "      <td>0.000000</td>\n",
       "    </tr>\n",
       "    <tr>\n",
       "      <th>25%</th>\n",
       "      <td>1.000000</td>\n",
       "      <td>1.000000</td>\n",
       "      <td>0.000000</td>\n",
       "      <td>0.000000</td>\n",
       "      <td>0.000000</td>\n",
       "    </tr>\n",
       "    <tr>\n",
       "      <th>50%</th>\n",
       "      <td>1.000000</td>\n",
       "      <td>1.000000</td>\n",
       "      <td>0.000000</td>\n",
       "      <td>0.000000</td>\n",
       "      <td>0.000000</td>\n",
       "    </tr>\n",
       "    <tr>\n",
       "      <th>75%</th>\n",
       "      <td>1.000000</td>\n",
       "      <td>2.000000</td>\n",
       "      <td>0.000000</td>\n",
       "      <td>0.000000</td>\n",
       "      <td>0.000000</td>\n",
       "    </tr>\n",
       "    <tr>\n",
       "      <th>max</th>\n",
       "      <td>4.000000</td>\n",
       "      <td>265.000000</td>\n",
       "      <td>137.000000</td>\n",
       "      <td>125.000000</td>\n",
       "      <td>334.000000</td>\n",
       "    </tr>\n",
       "  </tbody>\n",
       "</table>\n",
       "</div>"
      ],
      "text/plain": [
       "       Number.of.Engines  Total.Fatal.Injuries  Total.Serious.Injuries  \\\n",
       "count       15023.000000          15023.000000            15023.000000   \n",
       "mean            1.165080              2.009452                0.202756   \n",
       "std             0.417833              5.003558                1.948040   \n",
       "min             0.000000              1.000000                0.000000   \n",
       "25%             1.000000              1.000000                0.000000   \n",
       "50%             1.000000              1.000000                0.000000   \n",
       "75%             1.000000              2.000000                0.000000   \n",
       "max             4.000000            265.000000              137.000000   \n",
       "\n",
       "       Total.Minor.Injuries  Total.Uninjured  \n",
       "count          15023.000000     15023.000000  \n",
       "mean               0.146708         0.338548  \n",
       "std                1.850249         6.541899  \n",
       "min                0.000000         0.000000  \n",
       "25%                0.000000         0.000000  \n",
       "50%                0.000000         0.000000  \n",
       "75%                0.000000         0.000000  \n",
       "max              125.000000       334.000000  "
      ]
     },
     "execution_count": 16,
     "metadata": {},
     "output_type": "execute_result"
    }
   ],
   "source": [
    "df_fatal.describe()"
   ]
  },
  {
   "cell_type": "markdown",
   "metadata": {},
   "source": [
    "## Statistical analysis to answer our questions"
   ]
  },
  {
   "cell_type": "markdown",
   "metadata": {},
   "source": [
    "To answer our questions, we can define a function which takes in the following arguements:\n",
    "* series      : data series to make a plot on\n",
    "* title (str) : figure title\n",
    "* xlabel (str): figure x axis label\n",
    "* ylabel (str): figure y axis label\n",
    "* topN (int)  : number of top counts to plot\n",
    "* figsize (tuple of two integers): figure size width x heigh.\n",
    "\n",
    "And returns a bar chart which will be used to answer our questions"
   ]
  },
  {
   "cell_type": "code",
   "execution_count": 17,
   "metadata": {},
   "outputs": [],
   "source": [
    "def plot_value_counts_bar(series, title, xlabel, ylabel, topN=10, figsize=(8,6),):\n",
    "    \n",
    "    plt.figure(figsize=(15,10))\n",
    "    vals = series.value_counts(normalize=True, dropna=False)[:topN]*100\n",
    "    vals.plot(kind=\"bar\", edgecolor='black')\n",
    "    plt.title(title)\n",
    "    plt.xlabel(xlabel)\n",
    "    plt.ylabel(ylabel)\n",
    "    plt.show()"
   ]
  },
  {
   "cell_type": "markdown",
   "metadata": {},
   "source": [
    "## Question 1: How do different phases of flight impact the risk levels of aircraft?"
   ]
  },
  {
   "cell_type": "markdown",
   "metadata": {},
   "source": [
    "Check the fatal accident and fatality rate during each flight phase usine the above function"
   ]
  },
  {
   "cell_type": "code",
   "execution_count": 18,
   "metadata": {},
   "outputs": [
    {
     "data": {
      "image/png": "[encoded data removed]",
      "text/plain": [
       "<Figure size 1080x720 with 1 Axes>"
      ]
     },
     "metadata": {
      "needs_background": "light"
     },
     "output_type": "display_data"
    }
   ],
   "source": [
    "plot_value_counts_bar(series = df_fatal[\"Broad.phase.of.flight\"], \n",
    "                      title  = \"Fatal accident during each flight phase\", \n",
    "                      xlabel = \"Flight phase\", \n",
    "                      ylabel = \"Percentage\" )"
   ]
  },
  {
   "cell_type": "markdown",
   "metadata": {},
   "source": [
    "### Answer\n",
    "\n",
    "From the above visualization: It turns out that the most common phase during which fatal accidents occur are during Landing (26%), Maneuvering (21%), cruise (18%), takeoff (12%), and approach (10%). Therefore, `Landing` is the most dangerous flight phase."
   ]
  },
  {
   "cell_type": "markdown",
   "metadata": {},
   "source": [
    " ## Question 2: Over the last few decades, how safe is an airplane?"
   ]
  },
  {
   "cell_type": "markdown",
   "metadata": {},
   "source": [
    "We can tackle this question by checking the year to year fatality rate"
   ]
  },
  {
   "cell_type": "code",
   "execution_count": 19,
   "metadata": {},
   "outputs": [
    {
     "data": {
      "text/html": [
       "<div>\n",
       "<style scoped>\n",
       "    .dataframe tbody tr th:only-of-type {\n",
       "        vertical-align: middle;\n",
       "    }\n",
       "\n",
       "    .dataframe tbody tr th {\n",
       "        vertical-align: top;\n",
       "    }\n",
       "\n",
       "    .dataframe thead th {\n",
       "        text-align: right;\n",
       "    }\n",
       "</style>\n",
       "<table border=\"1\" class=\"dataframe\">\n",
       "  <thead>\n",
       "    <tr style=\"text-align: right;\">\n",
       "      <th></th>\n",
       "      <th>sum</th>\n",
       "      <th>count</th>\n",
       "    </tr>\n",
       "    <tr>\n",
       "      <th>Date</th>\n",
       "      <th></th>\n",
       "      <th></th>\n",
       "    </tr>\n",
       "  </thead>\n",
       "  <tbody>\n",
       "    <tr>\n",
       "      <th>1962</th>\n",
       "      <td>4.0</td>\n",
       "      <td>1</td>\n",
       "    </tr>\n",
       "    <tr>\n",
       "      <th>1974</th>\n",
       "      <td>3.0</td>\n",
       "      <td>1</td>\n",
       "    </tr>\n",
       "    <tr>\n",
       "      <th>1977</th>\n",
       "      <td>2.0</td>\n",
       "      <td>1</td>\n",
       "    </tr>\n",
       "    <tr>\n",
       "      <th>1979</th>\n",
       "      <td>1.0</td>\n",
       "      <td>1</td>\n",
       "    </tr>\n",
       "    <tr>\n",
       "      <th>1981</th>\n",
       "      <td>4.0</td>\n",
       "      <td>1</td>\n",
       "    </tr>\n",
       "    <tr>\n",
       "      <th>1982</th>\n",
       "      <td>1557.0</td>\n",
       "      <td>645</td>\n",
       "    </tr>\n",
       "    <tr>\n",
       "      <th>1983</th>\n",
       "      <td>1259.0</td>\n",
       "      <td>654</td>\n",
       "    </tr>\n",
       "    <tr>\n",
       "      <th>1984</th>\n",
       "      <td>1198.0</td>\n",
       "      <td>619</td>\n",
       "    </tr>\n",
       "    <tr>\n",
       "      <th>1985</th>\n",
       "      <td>1346.0</td>\n",
       "      <td>560</td>\n",
       "    </tr>\n",
       "    <tr>\n",
       "      <th>1986</th>\n",
       "      <td>1157.0</td>\n",
       "      <td>516</td>\n",
       "    </tr>\n",
       "  </tbody>\n",
       "</table>\n",
       "</div>"
      ],
      "text/plain": [
       "         sum  count\n",
       "Date               \n",
       "1962     4.0      1\n",
       "1974     3.0      1\n",
       "1977     2.0      1\n",
       "1979     1.0      1\n",
       "1981     4.0      1\n",
       "1982  1557.0    645\n",
       "1983  1259.0    654\n",
       "1984  1198.0    619\n",
       "1985  1346.0    560\n",
       "1986  1157.0    516"
      ]
     },
     "execution_count": 19,
     "metadata": {},
     "output_type": "execute_result"
    }
   ],
   "source": [
    "# Extract the year from the Date column in the df_fatal DataFrame and group by the extracted years\n",
    "# Apply two aggregation functions (sum and count) to the Total.Fatal.Injuries column for each group (year)\n",
    "# The results are stored in the fatal_agg DataFrame, which will have two columns:\n",
    " #one for the sum of fatal injuries and one for the count of incidents per year.\n",
    "fatal_agg = df_fatal['Total.Fatal.Injuries'].groupby([df_fatal['Date'].dt.year]).agg({'sum','count'})\n",
    "\n",
    "#Display the first 10 enties of the fatal_agg dataframe\n",
    "fatal_agg.head(10)"
   ]
  },
  {
   "cell_type": "code",
   "execution_count": 20,
   "metadata": {},
   "outputs": [
    {
     "data": {
      "image/png": "[encoded data removed]",
      "text/plain": [
       "<Figure size 1080x576 with 1 Axes>"
      ]
     },
     "metadata": {
      "needs_background": "light"
     },
     "output_type": "display_data"
    }
   ],
   "source": [
    "plt.figure(figsize=(15,8))\n",
    "plt.plot(fatal_agg[['sum','count']], 'o-', lw=4, ms=10 )\n",
    "plt.legend(('Fatalities', 'Fatal accidents'))\n",
    "plt.title('Fatal accident historical trend')\n",
    "plt.xlabel('Year')\n",
    "plt.ylabel('Count')\n",
    "plt.grid()\n",
    "plt.show()"
   ]
  },
  {
   "cell_type": "markdown",
   "metadata": {},
   "source": [
    "From the data above data and visualization, it seems like this data source probably filled in `1` as the count whenever it was unknown, instead of just leaving it as NaN."
   ]
  },
  {
   "cell_type": "markdown",
   "metadata": {},
   "source": [
    "Depending on the purpose of the analysis, maybe this would be a useful piece of information, but for our current question, we will go ahead and drop the records where the count is `1`. We'll make a new temporary dataframe `fatal_agg_2` to make sure we don't accidentally delete anything that will be needed in a future question."
   ]
  },
  {
   "cell_type": "code",
   "execution_count": 21,
   "metadata": {},
   "outputs": [
    {
     "data": {
      "text/html": [
       "<div>\n",
       "<style scoped>\n",
       "    .dataframe tbody tr th:only-of-type {\n",
       "        vertical-align: middle;\n",
       "    }\n",
       "\n",
       "    .dataframe tbody tr th {\n",
       "        vertical-align: top;\n",
       "    }\n",
       "\n",
       "    .dataframe thead th {\n",
       "        text-align: right;\n",
       "    }\n",
       "</style>\n",
       "<table border=\"1\" class=\"dataframe\">\n",
       "  <thead>\n",
       "    <tr style=\"text-align: right;\">\n",
       "      <th></th>\n",
       "      <th>sum</th>\n",
       "      <th>count</th>\n",
       "    </tr>\n",
       "    <tr>\n",
       "      <th>Date</th>\n",
       "      <th></th>\n",
       "      <th></th>\n",
       "    </tr>\n",
       "  </thead>\n",
       "  <tbody>\n",
       "    <tr>\n",
       "      <th>1982</th>\n",
       "      <td>1557.0</td>\n",
       "      <td>645</td>\n",
       "    </tr>\n",
       "    <tr>\n",
       "      <th>1983</th>\n",
       "      <td>1259.0</td>\n",
       "      <td>654</td>\n",
       "    </tr>\n",
       "    <tr>\n",
       "      <th>1984</th>\n",
       "      <td>1198.0</td>\n",
       "      <td>619</td>\n",
       "    </tr>\n",
       "    <tr>\n",
       "      <th>1985</th>\n",
       "      <td>1346.0</td>\n",
       "      <td>560</td>\n",
       "    </tr>\n",
       "    <tr>\n",
       "      <th>1986</th>\n",
       "      <td>1157.0</td>\n",
       "      <td>516</td>\n",
       "    </tr>\n",
       "    <tr>\n",
       "      <th>1987</th>\n",
       "      <td>1192.0</td>\n",
       "      <td>491</td>\n",
       "    </tr>\n",
       "    <tr>\n",
       "      <th>1988</th>\n",
       "      <td>892.0</td>\n",
       "      <td>493</td>\n",
       "    </tr>\n",
       "    <tr>\n",
       "      <th>1989</th>\n",
       "      <td>1060.0</td>\n",
       "      <td>479</td>\n",
       "    </tr>\n",
       "    <tr>\n",
       "      <th>1990</th>\n",
       "      <td>944.0</td>\n",
       "      <td>499</td>\n",
       "    </tr>\n",
       "    <tr>\n",
       "      <th>1991</th>\n",
       "      <td>1033.0</td>\n",
       "      <td>478</td>\n",
       "    </tr>\n",
       "    <tr>\n",
       "      <th>1992</th>\n",
       "      <td>977.0</td>\n",
       "      <td>486</td>\n",
       "    </tr>\n",
       "    <tr>\n",
       "      <th>1993</th>\n",
       "      <td>805.0</td>\n",
       "      <td>426</td>\n",
       "    </tr>\n",
       "    <tr>\n",
       "      <th>1994</th>\n",
       "      <td>1064.0</td>\n",
       "      <td>438</td>\n",
       "    </tr>\n",
       "    <tr>\n",
       "      <th>1995</th>\n",
       "      <td>776.0</td>\n",
       "      <td>431</td>\n",
       "    </tr>\n",
       "    <tr>\n",
       "      <th>1996</th>\n",
       "      <td>1021.0</td>\n",
       "      <td>382</td>\n",
       "    </tr>\n",
       "    <tr>\n",
       "      <th>1997</th>\n",
       "      <td>946.0</td>\n",
       "      <td>371</td>\n",
       "    </tr>\n",
       "    <tr>\n",
       "      <th>1998</th>\n",
       "      <td>649.0</td>\n",
       "      <td>384</td>\n",
       "    </tr>\n",
       "    <tr>\n",
       "      <th>1999</th>\n",
       "      <td>661.0</td>\n",
       "      <td>352</td>\n",
       "    </tr>\n",
       "    <tr>\n",
       "      <th>2000</th>\n",
       "      <td>758.0</td>\n",
       "      <td>373</td>\n",
       "    </tr>\n",
       "    <tr>\n",
       "      <th>2001</th>\n",
       "      <td>1155.0</td>\n",
       "      <td>351</td>\n",
       "    </tr>\n",
       "    <tr>\n",
       "      <th>2002</th>\n",
       "      <td>604.0</td>\n",
       "      <td>363</td>\n",
       "    </tr>\n",
       "    <tr>\n",
       "      <th>2003</th>\n",
       "      <td>707.0</td>\n",
       "      <td>377</td>\n",
       "    </tr>\n",
       "    <tr>\n",
       "      <th>2004</th>\n",
       "      <td>636.0</td>\n",
       "      <td>350</td>\n",
       "    </tr>\n",
       "    <tr>\n",
       "      <th>2005</th>\n",
       "      <td>584.0</td>\n",
       "      <td>335</td>\n",
       "    </tr>\n",
       "    <tr>\n",
       "      <th>2006</th>\n",
       "      <td>626.0</td>\n",
       "      <td>323</td>\n",
       "    </tr>\n",
       "    <tr>\n",
       "      <th>2007</th>\n",
       "      <td>539.0</td>\n",
       "      <td>304</td>\n",
       "    </tr>\n",
       "    <tr>\n",
       "      <th>2008</th>\n",
       "      <td>519.0</td>\n",
       "      <td>280</td>\n",
       "    </tr>\n",
       "    <tr>\n",
       "      <th>2009</th>\n",
       "      <td>515.0</td>\n",
       "      <td>268</td>\n",
       "    </tr>\n",
       "    <tr>\n",
       "      <th>2010</th>\n",
       "      <td>443.0</td>\n",
       "      <td>263</td>\n",
       "    </tr>\n",
       "    <tr>\n",
       "      <th>2011</th>\n",
       "      <td>470.0</td>\n",
       "      <td>278</td>\n",
       "    </tr>\n",
       "    <tr>\n",
       "      <th>2012</th>\n",
       "      <td>407.0</td>\n",
       "      <td>270</td>\n",
       "    </tr>\n",
       "    <tr>\n",
       "      <th>2013</th>\n",
       "      <td>383.0</td>\n",
       "      <td>218</td>\n",
       "    </tr>\n",
       "    <tr>\n",
       "      <th>2014</th>\n",
       "      <td>385.0</td>\n",
       "      <td>250</td>\n",
       "    </tr>\n",
       "    <tr>\n",
       "      <th>2015</th>\n",
       "      <td>397.0</td>\n",
       "      <td>233</td>\n",
       "    </tr>\n",
       "    <tr>\n",
       "      <th>2016</th>\n",
       "      <td>378.0</td>\n",
       "      <td>206</td>\n",
       "    </tr>\n",
       "    <tr>\n",
       "      <th>2017</th>\n",
       "      <td>333.0</td>\n",
       "      <td>205</td>\n",
       "    </tr>\n",
       "    <tr>\n",
       "      <th>2018</th>\n",
       "      <td>377.0</td>\n",
       "      <td>224</td>\n",
       "    </tr>\n",
       "    <tr>\n",
       "      <th>2019</th>\n",
       "      <td>412.0</td>\n",
       "      <td>239</td>\n",
       "    </tr>\n",
       "    <tr>\n",
       "      <th>2020</th>\n",
       "      <td>330.0</td>\n",
       "      <td>200</td>\n",
       "    </tr>\n",
       "    <tr>\n",
       "      <th>2021</th>\n",
       "      <td>336.0</td>\n",
       "      <td>200</td>\n",
       "    </tr>\n",
       "    <tr>\n",
       "      <th>2022</th>\n",
       "      <td>343.0</td>\n",
       "      <td>204</td>\n",
       "    </tr>\n",
       "  </tbody>\n",
       "</table>\n",
       "</div>"
      ],
      "text/plain": [
       "         sum  count\n",
       "Date               \n",
       "1982  1557.0    645\n",
       "1983  1259.0    654\n",
       "1984  1198.0    619\n",
       "1985  1346.0    560\n",
       "1986  1157.0    516\n",
       "1987  1192.0    491\n",
       "1988   892.0    493\n",
       "1989  1060.0    479\n",
       "1990   944.0    499\n",
       "1991  1033.0    478\n",
       "1992   977.0    486\n",
       "1993   805.0    426\n",
       "1994  1064.0    438\n",
       "1995   776.0    431\n",
       "1996  1021.0    382\n",
       "1997   946.0    371\n",
       "1998   649.0    384\n",
       "1999   661.0    352\n",
       "2000   758.0    373\n",
       "2001  1155.0    351\n",
       "2002   604.0    363\n",
       "2003   707.0    377\n",
       "2004   636.0    350\n",
       "2005   584.0    335\n",
       "2006   626.0    323\n",
       "2007   539.0    304\n",
       "2008   519.0    280\n",
       "2009   515.0    268\n",
       "2010   443.0    263\n",
       "2011   470.0    278\n",
       "2012   407.0    270\n",
       "2013   383.0    218\n",
       "2014   385.0    250\n",
       "2015   397.0    233\n",
       "2016   378.0    206\n",
       "2017   333.0    205\n",
       "2018   377.0    224\n",
       "2019   412.0    239\n",
       "2020   330.0    200\n",
       "2021   336.0    200\n",
       "2022   343.0    204"
      ]
     },
     "execution_count": 21,
     "metadata": {},
     "output_type": "execute_result"
    }
   ],
   "source": [
    "fatal_agg_2 = fatal_agg[fatal_agg[\"count\"] != 1].copy()\n",
    "fatal_agg_2"
   ]
  },
  {
   "cell_type": "code",
   "execution_count": 22,
   "metadata": {},
   "outputs": [
    {
     "data": {
      "image/png": "[encoded data removed]",
      "text/plain": [
       "<Figure size 1080x576 with 1 Axes>"
      ]
     },
     "metadata": {
      "needs_background": "light"
     },
     "output_type": "display_data"
    }
   ],
   "source": [
    "plt.figure(figsize=(15,8))\n",
    "plt.plot(fatal_agg_2[['sum','count']], 'o-', lw=4, ms=10 )\n",
    "plt.legend(('Fatalities', 'Fatal accidents'))\n",
    "plt.title('Fatal accident historical trend')\n",
    "plt.xlabel('Year')\n",
    "plt.ylabel('Count')\n",
    "plt.grid()\n",
    "plt.show()"
   ]
  },
  {
   "cell_type": "markdown",
   "metadata": {},
   "source": [
    "### Answer: Interpretation of the graph\n",
    "The graph shows the trends in fatalities and fatal accidents involving airplanes from 1982 to around 2022. Here are the key points:\n",
    "\n",
    "##### Overall Trend:\n",
    "* Both the number of fatalities (blue line) and fatal accidents (orange line) have significantly decreased over the last few decades. This suggests a substantial improvement in aviation safety over time.\n",
    "\n",
    "##### Fatalities:\n",
    "* In 1982, there were just under 1600 fatalities, but by 2022, this number had dropped to just above 200, therefore the decrease in fatalities indicates that fewer lives are lost in aviation incidents now compared to the past.\n",
    "\n",
    "##### Fatal Accidents:\n",
    "* The number of fatal accidents started high near 1982 with about 40 incidents and has decreased to nearly single digits by 2022.\n",
    "* This reduction shows that the frequency of fatal accidents has also declined."
   ]
  },
  {
   "cell_type": "markdown",
   "metadata": {},
   "source": [
    "## Question 3: Which airplane has the highest accident rates?"
   ]
  },
  {
   "cell_type": "markdown",
   "metadata": {},
   "source": [
    "To answer this question, we are going to use the `'Make'` column whereby we will check for the value counts `i.e` the number of times a specific airplane make was involved in an accident."
   ]
  },
  {
   "cell_type": "code",
   "execution_count": 23,
   "metadata": {},
   "outputs": [
    {
     "data": {
      "text/plain": [
       "Cessna    3336\n",
       "Piper     2369\n",
       "Beech     1154\n",
       "CESSNA     584\n",
       "PIPER      424\n",
       "Name: Make, dtype: int64"
      ]
     },
     "execution_count": 23,
     "metadata": {},
     "output_type": "execute_result"
    }
   ],
   "source": [
    "vals = df_fatal['Make'].value_counts()\n",
    "vals.head()"
   ]
  },
  {
   "cell_type": "markdown",
   "metadata": {},
   "source": [
    "Plot the bar graph and normalize it to percentage"
   ]
  },
  {
   "cell_type": "code",
   "execution_count": 24,
   "metadata": {},
   "outputs": [
    {
     "data": {
      "image/png": "[encoded data removed]",
      "text/plain": [
       "<Figure size 1080x576 with 1 Axes>"
      ]
     },
     "metadata": {
      "needs_background": "light"
     },
     "output_type": "display_data"
    }
   ],
   "source": [
    "fig, ax = plt.subplots(figsize=(15, 8))\n",
    "\n",
    "vals = df_fatal[\"Make\"].value_counts(normalize=True, dropna=False)[:20] * 100\n",
    "ax = vals.plot(kind=\"bar\", edgecolor='black')\n",
    "\n",
    "plt.title(\"Fatal accident for each aircraft make\") #Adds a title to the figure\n",
    "plt.xlabel(\"Aircraft Make\") #Adds an x label to the plot\n",
    "plt.ylabel(\"Percentage\") #Adds a y label to the plot\n",
    "plt.show() #Displays the plot"
   ]
  },
  {
   "cell_type": "markdown",
   "metadata": {},
   "source": [
    "Before making an interpretation of the graph above, we notice that some of the makes have been listed twice i.e `CESSNA, PIPER, BEECH` and `BELL` as separate makes. We will therefore go ahead and correct that by applying the strip method."
   ]
  },
  {
   "cell_type": "code",
   "execution_count": 25,
   "metadata": {
    "scrolled": false
   },
   "outputs": [
    {
     "data": {
      "image/png": "[encoded data removed]",
      "text/plain": [
       "<Figure size 1080x576 with 1 Axes>"
      ]
     },
     "metadata": {
      "needs_background": "light"
     },
     "output_type": "display_data"
    }
   ],
   "source": [
    "fig, ax = plt.subplots(figsize=(15, 8))\n",
    "\n",
    "#For the correction, we will use the strip method which is initialized as `str`\n",
    "#We will also format the Aircraft Make to make only the first letter upper case and the rest lower case\n",
    "vals = df_fatal[\"Make\"].str.capitalize().value_counts(normalize=True, dropna=False)[:20] * 100\n",
    "ax = vals.plot(kind=\"bar\", edgecolor='black')\n",
    "\n",
    "# Adding title and labels and showing the plot\n",
    "plt.title(\"Fatal accident for each aircraft make\")\n",
    "plt.xlabel(\"Aircraft Make\")\n",
    "plt.ylabel(\"Percentage\")\n",
    "plt.show()"
   ]
  },
  {
   "cell_type": "markdown",
   "metadata": {},
   "source": [
    "### Answer: Interpretation of the graph\n",
    "From the visualization above:\n",
    "* The Cessna make has the highest accident rate, as indicated by the tallest bar on the graph. This suggests that Cessna aircraft have experienced the most fatal accidents compared to other makes.\n",
    "* The other aircraft makes have significantly lower bars, indicating much lower fatal accident rates. This highlights that Cessna stands out with a notably higher rate of fatal accidents."
   ]
  },
  {
   "cell_type": "markdown",
   "metadata": {},
   "source": [
    "## Question 4: What is the correlation between the Number of Engines and Injury count?\n",
    "To answer this question, we are going to group the DataFrame by 'Number.of.Engines' and count the Injury.Severity for each airplane with a given number of engines."
   ]
  },
  {
   "cell_type": "code",
   "execution_count": 26,
   "metadata": {},
   "outputs": [
    {
     "data": {
      "text/html": [
       "<div>\n",
       "<style scoped>\n",
       "    .dataframe tbody tr th:only-of-type {\n",
       "        vertical-align: middle;\n",
       "    }\n",
       "\n",
       "    .dataframe tbody tr th {\n",
       "        vertical-align: top;\n",
       "    }\n",
       "\n",
       "    .dataframe thead th {\n",
       "        text-align: right;\n",
       "    }\n",
       "</style>\n",
       "<table border=\"1\" class=\"dataframe\">\n",
       "  <thead>\n",
       "    <tr style=\"text-align: right;\">\n",
       "      <th></th>\n",
       "      <th>Number.of.Engines</th>\n",
       "      <th>Injury count</th>\n",
       "    </tr>\n",
       "  </thead>\n",
       "  <tbody>\n",
       "    <tr>\n",
       "      <th>0</th>\n",
       "      <td>0.0</td>\n",
       "      <td>1226</td>\n",
       "    </tr>\n",
       "    <tr>\n",
       "      <th>1</th>\n",
       "      <td>1.0</td>\n",
       "      <td>75666</td>\n",
       "    </tr>\n",
       "    <tr>\n",
       "      <th>2</th>\n",
       "      <td>2.0</td>\n",
       "      <td>11079</td>\n",
       "    </tr>\n",
       "    <tr>\n",
       "      <th>3</th>\n",
       "      <td>3.0</td>\n",
       "      <td>483</td>\n",
       "    </tr>\n",
       "    <tr>\n",
       "      <th>4</th>\n",
       "      <td>4.0</td>\n",
       "      <td>431</td>\n",
       "    </tr>\n",
       "    <tr>\n",
       "      <th>5</th>\n",
       "      <td>6.0</td>\n",
       "      <td>1</td>\n",
       "    </tr>\n",
       "    <tr>\n",
       "      <th>6</th>\n",
       "      <td>8.0</td>\n",
       "      <td>3</td>\n",
       "    </tr>\n",
       "  </tbody>\n",
       "</table>\n",
       "</div>"
      ],
      "text/plain": [
       "   Number.of.Engines  Injury count\n",
       "0                0.0          1226\n",
       "1                1.0         75666\n",
       "2                2.0         11079\n",
       "3                3.0           483\n",
       "4                4.0           431\n",
       "5                6.0             1\n",
       "6                8.0             3"
      ]
     },
     "execution_count": 26,
     "metadata": {},
     "output_type": "execute_result"
    }
   ],
   "source": [
    "# Group the DataFrame by 'Number.of.Engines' and count the Injury.Severity for each airplane with a given number of engines.\n",
    "Survialdf = df.groupby('Number.of.Engines')['Injury.Severity'].size().rename('Injury count').reset_index()\n",
    "Survialdf"
   ]
  },
  {
   "cell_type": "code",
   "execution_count": 27,
   "metadata": {},
   "outputs": [
    {
     "data": {
      "image/png": "[encoded data removed]",
      "text/plain": [
       "<Figure size 936x576 with 1 Axes>"
      ]
     },
     "metadata": {
      "needs_background": "light"
     },
     "output_type": "display_data"
    }
   ],
   "source": [
    "plt.figure(figsize=(13,8))\n",
    "\n",
    "# Creating a scatter plot with 'Number.of.Engines' on the x-axis and 'Injury count' on the y-axis\n",
    "sns.scatterplot(data=Survialdf,x='Number.of.Engines',y='Injury count', s=100)\n",
    "\n",
    "# Adding a title to the plot and displaying it\n",
    "plt.title('Survival analysis over Engine count')\n",
    "plt.show()"
   ]
  },
  {
   "cell_type": "markdown",
   "metadata": {},
   "source": [
    "### Answer: Interpretation of the graph\n",
    "Based on the scatter plot, there is a negative correlation between the number of engines and the injury count. Aircraft with fewer engines tend to have higher injury counts, while those with more engines tend to have lower injury counts.\n",
    "Most data points are concentrated at the lower end of both axes, suggesting that aircraft with fewer engines (e.g., 1 or 2 engines) are associated with higher injury counts, while aircraft with more engines (e.g., 3 or more) show significantly fewer injuries."
   ]
  },
  {
   "cell_type": "markdown",
   "metadata": {},
   "source": [
    "## Question 5: Which aircraft Model has the highest Accident count?\n",
    "This question was tackled by creating a new dataframe `Mod_Acc` and grouping the DataFrame `df` by 'Model' and counting the number of accidents for each model"
   ]
  },
  {
   "cell_type": "code",
   "execution_count": 33,
   "metadata": {},
   "outputs": [
    {
     "data": {
      "text/html": [
       "<div>\n",
       "<style scoped>\n",
       "    .dataframe tbody tr th:only-of-type {\n",
       "        vertical-align: middle;\n",
       "    }\n",
       "\n",
       "    .dataframe tbody tr th {\n",
       "        vertical-align: top;\n",
       "    }\n",
       "\n",
       "    .dataframe thead th {\n",
       "        text-align: right;\n",
       "    }\n",
       "</style>\n",
       "<table border=\"1\" class=\"dataframe\">\n",
       "  <thead>\n",
       "    <tr style=\"text-align: right;\">\n",
       "      <th></th>\n",
       "      <th>Model</th>\n",
       "      <th>Accident_count</th>\n",
       "    </tr>\n",
       "  </thead>\n",
       "  <tbody>\n",
       "    <tr>\n",
       "      <th>204</th>\n",
       "      <td>152</td>\n",
       "      <td>2367</td>\n",
       "    </tr>\n",
       "    <tr>\n",
       "      <th>263</th>\n",
       "      <td>172</td>\n",
       "      <td>1756</td>\n",
       "    </tr>\n",
       "    <tr>\n",
       "      <th>314</th>\n",
       "      <td>172N</td>\n",
       "      <td>1164</td>\n",
       "    </tr>\n",
       "    <tr>\n",
       "      <th>8515</th>\n",
       "      <td>PA-28-140</td>\n",
       "      <td>932</td>\n",
       "    </tr>\n",
       "    <tr>\n",
       "      <th>175</th>\n",
       "      <td>150</td>\n",
       "      <td>829</td>\n",
       "    </tr>\n",
       "    <tr>\n",
       "      <th>312</th>\n",
       "      <td>172M</td>\n",
       "      <td>798</td>\n",
       "    </tr>\n",
       "    <tr>\n",
       "      <th>317</th>\n",
       "      <td>172P</td>\n",
       "      <td>689</td>\n",
       "    </tr>\n",
       "    <tr>\n",
       "      <th>387</th>\n",
       "      <td>182</td>\n",
       "      <td>659</td>\n",
       "    </tr>\n",
       "    <tr>\n",
       "      <th>361</th>\n",
       "      <td>180</td>\n",
       "      <td>622</td>\n",
       "    </tr>\n",
       "    <tr>\n",
       "      <th>203</th>\n",
       "      <td>150M</td>\n",
       "      <td>585</td>\n",
       "    </tr>\n",
       "  </tbody>\n",
       "</table>\n",
       "</div>"
      ],
      "text/plain": [
       "          Model  Accident_count\n",
       "204         152            2367\n",
       "263         172            1756\n",
       "314        172N            1164\n",
       "8515  PA-28-140             932\n",
       "175         150             829\n",
       "312        172M             798\n",
       "317        172P             689\n",
       "387         182             659\n",
       "361         180             622\n",
       "203        150M             585"
      ]
     },
     "execution_count": 33,
     "metadata": {},
     "output_type": "execute_result"
    }
   ],
   "source": [
    "# Grouping the DataFrame by 'Model' and counting the number of accidents for each model\n",
    "Mod_Acc=df.groupby('Model')['Accident.Number'].size().rename('Accident_count').reset_index()\n",
    "\n",
    "# Sorting the models by the accident count in descending order and selecting the top 10 models\n",
    "Top_10_Mod_Acc=Mod_Acc.sort_values('Accident_count',ascending=False).head(10)\n",
    "Top_10_Mod_Acc"
   ]
  },
  {
   "cell_type": "code",
   "execution_count": 29,
   "metadata": {},
   "outputs": [
    {
     "data": {
      "image/png": "[encoded data removed]",
      "text/plain": [
       "<Figure size 1008x504 with 1 Axes>"
      ]
     },
     "metadata": {
      "needs_background": "light"
     },
     "output_type": "display_data"
    }
   ],
   "source": [
    "# Setting the figure size for the plot and create a bar chart with 'Model' on the x-axis and 'Accident_count' on the y-axis\n",
    "plt.figure(figsize=(14,7))\n",
    "plt.bar(x=Top_10_Mod_Acc['Model'],height=Top_10_Mod_Acc['Accident_count'])\n",
    "\n",
    "# Adding title and labels\n",
    "plt.title('Model analysis for Accident count')\n",
    "plt.xlabel(\"Model\")\n",
    "plt.ylabel(\"Accident Count\")\n",
    "\n",
    "# Show the plot\n",
    "plt.show();"
   ]
  },
  {
   "cell_type": "markdown",
   "metadata": {},
   "source": [
    "### Answer: Interpretation of the Graph\n",
    "The graph titled `“Model analysis for Accident count”` shows the accident counts for various aircraft models. Here’s the interpretation to answer the question:\n",
    "\n",
    "###### Highest Accident Count:\n",
    "* The aircraft model 152 has the highest accident count, with just over 2000 accidents. This is significantly higher than any other model listed on the graph.\n",
    "\n",
    "##### Comparison with Other Models:\n",
    "* Other models such as 172, 172N, PA-28-140, 172M, 172P, 182, and 150M have much lower accident counts in comparison. None of these models come close to the accident count of model 152."
   ]
  },
  {
   "cell_type": "markdown",
   "metadata": {},
   "source": [
    "## Question 6: During which weather conditions did most accidents occur?\n",
    "For the Weather Condition Column, the data source used the following acronyms to mean:\n",
    "- IMC       : Instrument Meteorological Conditions\n",
    "- UNK or unk: Unknown\n",
    "- VMC       : Visual Meteorological Conditions"
   ]
  },
  {
   "cell_type": "code",
   "execution_count": 30,
   "metadata": {},
   "outputs": [],
   "source": [
    "# Grouping the weather condition and counting the most number of accidents that happened during which weather condition\n",
    "Weather_Accident=df.groupby('Weather.Condition')['Accident.Number'].size().rename('Accident_count').reset_index()"
   ]
  },
  {
   "cell_type": "code",
   "execution_count": 31,
   "metadata": {
    "scrolled": false
   },
   "outputs": [
    {
     "data": {
      "image/png": "[encoded data removed]",
      "text/plain": [
       "<Figure size 1008x504 with 1 Axes>"
      ]
     },
     "metadata": {
      "needs_background": "light"
     },
     "output_type": "display_data"
    }
   ],
   "source": [
    "# Ploting the bar chart for highest number accidents over weather condition\n",
    "plt.figure(figsize=(14,7))\n",
    "plt.bar(x=Weather_Accident['Weather.Condition'] ,height=Weather_Accident['Accident_count'])\n",
    "\n",
    "# Adding title and labels\n",
    "plt.title('Weather condition for accident count')\n",
    "plt.xlabel(\"Weather Condition\")\n",
    "plt.ylabel(\"Accident Count\")\n",
    "\n",
    "# Show the plot\n",
    "plt.show()"
   ]
  },
  {
   "cell_type": "code",
   "execution_count": 32,
   "metadata": {},
   "outputs": [
    {
     "data": {
      "image/png": "[encoded data removed]",
      "text/plain": [
       "<Figure size 1008x504 with 1 Axes>"
      ]
     },
     "metadata": {
      "needs_background": "light"
     },
     "output_type": "display_data"
    }
   ],
   "source": [
    "# Combine the two 'Unknown'(UNK) categories\n",
    "Weather_Accident['Weather.Condition'] = Weather_Accident['Weather.Condition'].replace(['UNK', 'Unk'], 'Unknown')\n",
    "\n",
    "# Plotting the bar chart for highest number of accidents over weather condition\n",
    "plt.figure(figsize=(14, 7))\n",
    "plt.bar(x=Weather_Accident['Weather.Condition'], height=Weather_Accident['Accident_count'], edgecolor='black')\n",
    "\n",
    "# Adding title and labels\n",
    "plt.title('Weather condition for accident count')\n",
    "plt.xlabel(\"Weather Condition\")\n",
    "plt.ylabel(\"Accident Count\")\n",
    "\n",
    "# Show the plot\n",
    "plt.show()"
   ]
  },
  {
   "cell_type": "markdown",
   "metadata": {},
   "source": [
    "### Answer: Interpretation of the graph\n",
    "* Based on the graph, most accidents occur under Visual Meteorological Conditions (VMC), which might seem counterintuitive as one might expect more accidents in poorer visibility conditions (IMC). This could be due to the higher frequency of flights in VMC compared to IMC."
   ]
  },
  {
   "cell_type": "markdown",
   "metadata": {},
   "source": [
    "## Findings:\n",
    "\n",
    "This article analyzed aviation safety using NTSB data and the following were the findings drawn from the analysis:\n",
    "\n",
    "1. The most dangerous flight phases in terms of fatalities are `Landing, maneuvering, cruising, takeoff`, and `approach`.\n",
    "\n",
    "2. Over the years, the number of fatal aviation incidents and the fatality rate have both decreased, indicating a trend towards safer air travel.\n",
    "\n",
    "3. `Cessna, Piper,` and `Beech` are the most common general aviation aircraft manufacturers, which also makes them the models most frequently involved in fatal accidents.\n",
    "\n",
    "4. Aircraft with fewer engines tend to have higher injury counts, while those with more engines tend to have lower injury counts.\n",
    "\n",
    "5. The aircraft model `152` has the highest accident count, making it the model most frequently involved in accidents among those listed.\n",
    "\n",
    "6. Most accidents occur under Visual Meteorological Conditions (VMC). This could be due to the higher frequency of flights in VMC compared to other weather conditions."
   ]
  },
  {
   "cell_type": "markdown",
   "metadata": {},
   "source": [
    "##  Reccomendations:\n",
    "Based on the findings above, i would reccomend:\n",
    "1. Invest in aircraft equipped with enhanced navigation systems, automated landing technologies, and robust safety protocols for takeoff and landing.\n",
    "2. The overall trend towards safer air travel is promising and therefore, continue to prioritize safety by adopting the latest safety standards and technologies.\n",
    "3. Cessna, Piper, and Beech are the most common manufacturers involved in fatal accidents, therefore, when purchasing new aircraft, first evaluate other manufacturers with strong safety records and comparable performance. \n",
    "4. Opt for multi-engine aircraft, especially for longer flights or flights over challenging terrain because multi-engine aircraft provide redundancy and can be safer in the event of an engine failure.\n",
    "5. While the Cessna 152 model is popular for training, consider diversifying the fleet with other models that have better safety records.\n",
    "6. Implement rigorous training for pilots to handle unexpected situations even in seemingly safe weather conditions. Invest in advanced weather monitoring and predictive technologies to enhance situational awareness."
   ]
  },
  {
   "cell_type": "markdown",
   "metadata": {},
   "source": [
    "# Conclusion:\n",
    "- In conclusion, the analysis of NTSB data reveals that while aviation safety has improved over the years, certain flight phases and aircraft models remain more prone to accidents. \n",
    "- To enhance safety, the company is recommended to invest in airplanes with advanced navigation and landing technologies, prioritize multi-engine aircraft, diversify training fleets, and implement rigorous pilot training and advanced weather monitoring systems. By adopting these measures, the aviation industry can continue to build on the positive trend towards safer air travel."
   ]
  },
  {
   "cell_type": "code",
   "execution_count": null,
   "metadata": {},
   "outputs": [],
   "source": []
  }
 ],
 "metadata": {
  "kernelspec": {
   "display_name": "Python (learn-env)",
   "language": "python",
   "name": "learn-env"
  },
  "language_info": {
   "codemirror_mode": {
    "name": "ipython",
    "version": 3
   },
   "file_extension": ".py",
   "mimetype": "text/x-python",
   "name": "python",
   "nbconvert_exporter": "python",
   "pygments_lexer": "ipython3",
   "version": "3.8.5"
  }
 },
 "nbformat": 4,
 "nbformat_minor": 4
}
